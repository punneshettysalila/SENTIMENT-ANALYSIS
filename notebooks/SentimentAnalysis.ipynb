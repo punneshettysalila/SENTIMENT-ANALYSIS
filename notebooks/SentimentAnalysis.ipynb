{
 "cells": [
  {
   "cell_type": "code",
   "execution_count": null,
   "id": "cf280873",
   "metadata": {},
   "outputs": [
    {
     "name": "stdout",
     "output_type": "stream",
     "text": [
      "              precision    recall  f1-score   support\n",
      "\n",
      "    negative       0.80      0.94      0.86      1835\n",
      "     neutral       0.63      0.47      0.54       620\n",
      "    positive       0.82      0.56      0.67       473\n",
      "\n",
      "    accuracy                           0.78      2928\n",
      "   macro avg       0.75      0.66      0.69      2928\n",
      "weighted avg       0.77      0.78      0.76      2928\n",
      "\n"
     ]
    }
   ],
   "source": [
    "# 1. Libraries\n",
    "import pandas as pd\n",
    "import numpy as np\n",
    "import re\n",
    "import matplotlib.pyplot as plt\n",
    "from wordcloud import WordCloud\n",
    "from sklearn.model_selection import train_test_split\n",
    "from sklearn.feature_extraction.text import TfidfVectorizer\n",
    "from sklearn.linear_model import LogisticRegression\n",
    "from sklearn.metrics import classification_report\n",
    "import pickle\n",
    "\n",
    "# 2. Load Dataset\n",
    "df = pd.read_csv('../data/Tweets.csv')\n",
    "df = df[['text', 'airline_sentiment']]\n",
    "df.columns = ['text', 'label']\n",
    "\n",
    "# 3. Preprocessing\n",
    "def clean_text(text):\n",
    "    text = text.lower()\n",
    "    text = re.sub(r\"http\\S+|www\\S+\", \"\", text)\n",
    "    text = re.sub(r\"[^a-z\\s]\", \"\", text)\n",
    "    return text\n",
    "\n",
    "df['clean_text'] = df['text'].apply(clean_text)\n",
    "\n",
    "# 4. Visualizations\n",
    "for sentiment in ['positive', 'negative']:\n",
    "    text = \" \".join(df[df['label'] == sentiment]['clean_text'])\n",
    "    wordcloud = WordCloud(width=600, height=400, background_color='white').generate(text)\n",
    "    wordcloud.to_file(f'../outputs/wordcloud_{sentiment}.png')\n",
    "\n",
    "# 5. Vectorize and Split\n",
    "tfidf = TfidfVectorizer(max_features=3000, stop_words='english')\n",
    "X = tfidf.fit_transform(df['clean_text'])\n",
    "y = df['label']\n",
    "\n",
    "X_train, X_test, y_train, y_test = train_test_split(X, y, stratify=y, test_size=0.2, random_state=42)\n",
    "\n",
    "# 6. Train Model\n",
    "model = LogisticRegression(max_iter=200)\n",
    "model.fit(X_train, y_train)\n",
    "\n",
    "# 7. Evaluate\n",
    "y_pred = model.predict(X_test)\n",
    "print(classification_report(y_test, y_pred))\n",
    "\n",
    "# 8. Save Model\n",
    "with open('../models/sentiment_model.pkl', 'wb') as f:\n",
    "    pickle.dump(model, f)\n"
   ]
  }
 ],
 "metadata": {
  "kernelspec": {
   "display_name": "Python 3",
   "language": "python",
   "name": "python3"
  },
  "language_info": {
   "codemirror_mode": {
    "name": "ipython",
    "version": 3
   },
   "file_extension": ".py",
   "mimetype": "text/x-python",
   "name": "python",
   "nbconvert_exporter": "python",
   "pygments_lexer": "ipython3",
   "version": "3.12.7"
  }
 },
 "nbformat": 4,
 "nbformat_minor": 5
}
